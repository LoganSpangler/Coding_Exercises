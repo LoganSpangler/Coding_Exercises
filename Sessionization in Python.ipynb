{
 "cells": [
  {
   "cell_type": "markdown",
   "metadata": {},
   "source": [
    "## Sessionization in SQL and Python\n",
    "\n",
    "Sessionization boils down to combining discrete events into sessions, a unit of measurement widely used when dealing with time series data.\n",
    "\n",
    "Using data events, we need to define a threshold in time units to compare and classify differences in time from one event to the previous one. \n",
    "\n",
    "In this example, we have a dataset with user_id and mytimestamp, which represents the time the user has an interaction with the website. We choose to define a new session after 30min of inactivity. \n",
    "\n",
    "The goal is to detect on which line there's a new session in the ordered dataset. "
   ]
  },
  {
   "cell_type": "markdown",
   "metadata": {},
   "source": [
    "# SQL\n",
    "\n",
    "Using PostgreSQL."
   ]
  },
  {
   "cell_type": "code",
   "execution_count": null,
   "metadata": {
    "collapsed": true
   },
   "outputs": [],
   "source": [
    "# Calculate the interval between 2 lines of the same user.\n",
    "SELECT *\n",
    "       ,extract(epoch from mytimestamp)\n",
    "       - lag(extract(epoch from mytimestamp))\n",
    "       over (PARTITION BY user_id order by mytimestamp) as time_interval\n",
    "FROM toy_data_psql;\n",
    "\n",
    "# flag each session of given user, assuming a new session after 30min.\n",
    "# Create a boolean column (1 indicating a new session, 0 otherwise).\n",
    "SELECT *\n",
    "  , CASE\n",
    "      WHEN EXTRACT(EPOCH FROM mytimestamp)\n",
    "           - LAG(EXTRACT(EPOCH FROM mytimestamp))\n",
    "           OVER (PARTITION BY user_id ORDER BY mytimestamp) >= 30 * 60\n",
    "      THEN 1\n",
    "      ELSE 0\n",
    "    END as new_session\n",
    "FROM\n",
    "  toy_data_psql;\n",
    "\n",
    "#Create a cumulative sum over this boolean column to create a \"session id\". To make it easier to visualize, we can concatenate it with the userid, and then build our final \"sessionid” column.\n",
    "SELECT *\n",
    "  , user_id || '_' || SUM(new_session)\n",
    "  OVER (PARTITION BY user_id ORDER BY mytimestamp) AS session_id\n",
    "FROM (\n",
    "  SELECT *\n",
    "    , CASE\n",
    "       WHEN EXTRACT(EPOCH FROM mytimestamp)\n",
    "          - LAG(EXTRACT(EPOCH FROM mytimestamp))\n",
    "            OVER (PARTITION BY user_id ORDER BY mytimestamp) >= 30 * 60\n",
    "       THEN 1\n",
    "       ELSE 0\n",
    "      END as new_session\n",
    "    FROM\n",
    "      toy_data_psql\n",
    ") s1"
   ]
  },
  {
   "cell_type": "markdown",
   "metadata": {},
   "source": [
    "# Python"
   ]
  },
  {
   "cell_type": "code",
   "execution_count": 2,
   "metadata": {
    "collapsed": false
   },
   "outputs": [],
   "source": [
    "import pandas as pd\n",
    "from datetime import timedelta"
   ]
  },
  {
   "cell_type": "code",
   "execution_count": 79,
   "metadata": {
    "collapsed": false
   },
   "outputs": [
    {
     "data": {
      "text/html": [
       "<div>\n",
       "<table border=\"1\" class=\"dataframe\">\n",
       "  <thead>\n",
       "    <tr style=\"text-align: right;\">\n",
       "      <th></th>\n",
       "      <th>user_id</th>\n",
       "      <th>mytimestamp</th>\n",
       "    </tr>\n",
       "  </thead>\n",
       "  <tbody>\n",
       "    <tr>\n",
       "      <th>0</th>\n",
       "      <td>uid1</td>\n",
       "      <td>2013-09-04T15:49:49</td>\n",
       "    </tr>\n",
       "    <tr>\n",
       "      <th>1</th>\n",
       "      <td>uid1</td>\n",
       "      <td>2013-09-04T15:49:58</td>\n",
       "    </tr>\n",
       "    <tr>\n",
       "      <th>2</th>\n",
       "      <td>uid1</td>\n",
       "      <td>2013-09-04T16:37:11</td>\n",
       "    </tr>\n",
       "    <tr>\n",
       "      <th>3</th>\n",
       "      <td>uid1</td>\n",
       "      <td>2013-09-04T16:37:18</td>\n",
       "    </tr>\n",
       "    <tr>\n",
       "      <th>4</th>\n",
       "      <td>uid1</td>\n",
       "      <td>2013-09-04T16:39:27</td>\n",
       "    </tr>\n",
       "  </tbody>\n",
       "</table>\n",
       "</div>"
      ],
      "text/plain": [
       "  user_id          mytimestamp\n",
       "0    uid1  2013-09-04T15:49:49\n",
       "1    uid1  2013-09-04T15:49:58\n",
       "2    uid1  2013-09-04T16:37:11\n",
       "3    uid1  2013-09-04T16:37:18\n",
       "4    uid1  2013-09-04T16:39:27"
      ]
     },
     "execution_count": 79,
     "metadata": {},
     "output_type": "execute_result"
    }
   ],
   "source": [
    "# load dataset\n",
    "toy_data = pd.read_csv('../Twitter/toy_data.csv',delimiter=';')\n",
    "\n",
    "toy_data.head(5)"
   ]
  },
  {
   "cell_type": "code",
   "execution_count": 80,
   "metadata": {
    "collapsed": false
   },
   "outputs": [
    {
     "data": {
      "text/plain": [
       "datetime.timedelta(0, 1800)"
      ]
     },
     "execution_count": 80,
     "metadata": {},
     "output_type": "execute_result"
    }
   ],
   "source": [
    "# define treshold value\n",
    "T = timedelta(seconds=30*60)\n",
    "T"
   ]
  },
  {
   "cell_type": "code",
   "execution_count": 81,
   "metadata": {
    "collapsed": false
   },
   "outputs": [],
   "source": [
    "toy_data =  pd.concat([toy_data,\n",
    "                       toy_data.groupby('user_id').transform(lambda x:x.shift(1))]\n",
    "                      ,axis=1)"
   ]
  },
  {
   "cell_type": "code",
   "execution_count": 82,
   "metadata": {
    "collapsed": false
   },
   "outputs": [],
   "source": [
    "toy_data.columns = ['user_id','mytimestamp','prev_mytimestamp']"
   ]
  },
  {
   "cell_type": "code",
   "execution_count": 83,
   "metadata": {
    "collapsed": false
   },
   "outputs": [
    {
     "data": {
      "text/plain": [
       "user_id             object\n",
       "mytimestamp         object\n",
       "prev_mytimestamp    object\n",
       "dtype: object"
      ]
     },
     "execution_count": 83,
     "metadata": {},
     "output_type": "execute_result"
    }
   ],
   "source": [
    "toy_data.dtypes"
   ]
  },
  {
   "cell_type": "code",
   "execution_count": 84,
   "metadata": {
    "collapsed": false
   },
   "outputs": [],
   "source": [
    "# create the new session column\n",
    "date_format = \"%Y-%m-%dT%H:%M:%S\"\n",
    "d1 =  pd.to_datetime(toy_data['mytimestamp'], format= date_format)\n",
    "d0 =  pd.to_datetime(toy_data['prev_mytimestamp'], format= date_format)\n",
    "\n",
    "toy_data['difference'] = (d1 - d0)"
   ]
  },
  {
   "cell_type": "code",
   "execution_count": 85,
   "metadata": {
    "collapsed": false
   },
   "outputs": [
    {
     "data": {
      "text/plain": [
       "0         NaT\n",
       "1    00:00:09\n",
       "2    00:47:13\n",
       "3    00:00:07\n",
       "4    00:02:09\n",
       "5    00:04:30\n",
       "6    03:28:06\n",
       "7    03:48:14\n",
       "8    00:20:18\n",
       "9         NaT\n",
       "10   00:01:33\n",
       "11   00:55:19\n",
       "12   00:59:04\n",
       "13   00:00:24\n",
       "14   00:00:14\n",
       "15   01:13:25\n",
       "Name: difference, dtype: timedelta64[ns]"
      ]
     },
     "execution_count": 85,
     "metadata": {},
     "output_type": "execute_result"
    }
   ],
   "source": [
    "toy_data['difference']"
   ]
  },
  {
   "cell_type": "code",
   "execution_count": 96,
   "metadata": {
    "collapsed": false
   },
   "outputs": [
    {
     "data": {
      "text/html": [
       "<div>\n",
       "<table border=\"1\" class=\"dataframe\">\n",
       "  <thead>\n",
       "    <tr style=\"text-align: right;\">\n",
       "      <th></th>\n",
       "      <th>user_id</th>\n",
       "      <th>mytimestamp</th>\n",
       "      <th>prev_mytimestamp</th>\n",
       "      <th>difference</th>\n",
       "      <th>new_session</th>\n",
       "    </tr>\n",
       "  </thead>\n",
       "  <tbody>\n",
       "    <tr>\n",
       "      <th>0</th>\n",
       "      <td>uid1</td>\n",
       "      <td>2013-09-04T15:49:49</td>\n",
       "      <td>NaN</td>\n",
       "      <td>NaT</td>\n",
       "      <td>0</td>\n",
       "    </tr>\n",
       "    <tr>\n",
       "      <th>1</th>\n",
       "      <td>uid1</td>\n",
       "      <td>2013-09-04T15:49:58</td>\n",
       "      <td>2013-09-04T15:49:49</td>\n",
       "      <td>00:00:09</td>\n",
       "      <td>0</td>\n",
       "    </tr>\n",
       "    <tr>\n",
       "      <th>2</th>\n",
       "      <td>uid1</td>\n",
       "      <td>2013-09-04T16:37:11</td>\n",
       "      <td>2013-09-04T15:49:58</td>\n",
       "      <td>00:47:13</td>\n",
       "      <td>1</td>\n",
       "    </tr>\n",
       "    <tr>\n",
       "      <th>3</th>\n",
       "      <td>uid1</td>\n",
       "      <td>2013-09-04T16:37:18</td>\n",
       "      <td>2013-09-04T16:37:11</td>\n",
       "      <td>00:00:07</td>\n",
       "      <td>0</td>\n",
       "    </tr>\n",
       "    <tr>\n",
       "      <th>4</th>\n",
       "      <td>uid1</td>\n",
       "      <td>2013-09-04T16:39:27</td>\n",
       "      <td>2013-09-04T16:37:18</td>\n",
       "      <td>00:02:09</td>\n",
       "      <td>0</td>\n",
       "    </tr>\n",
       "  </tbody>\n",
       "</table>\n",
       "</div>"
      ],
      "text/plain": [
       "  user_id          mytimestamp     prev_mytimestamp  difference  new_session\n",
       "0    uid1  2013-09-04T15:49:49                  NaN         NaT            0\n",
       "1    uid1  2013-09-04T15:49:58  2013-09-04T15:49:49    00:00:09            0\n",
       "2    uid1  2013-09-04T16:37:11  2013-09-04T15:49:58    00:47:13            1\n",
       "3    uid1  2013-09-04T16:37:18  2013-09-04T16:37:11    00:00:07            0\n",
       "4    uid1  2013-09-04T16:39:27  2013-09-04T16:37:18    00:02:09            0"
      ]
     },
     "execution_count": 96,
     "metadata": {},
     "output_type": "execute_result"
    }
   ],
   "source": [
    "toy_data['new_session'] = (toy_data.difference >= T).astype(int)\n",
    "toy_data.head()"
   ]
  },
  {
   "cell_type": "code",
   "execution_count": 97,
   "metadata": {
    "collapsed": false
   },
   "outputs": [
    {
     "name": "stderr",
     "output_type": "stream",
     "text": [
      "/Users/iglopezfrancos/anaconda/lib/python2.7/site-packages/ipykernel/__main__.py:6: FutureWarning: sort(columns=....) is deprecated, use sort_values(by=.....)\n"
     ]
    }
   ],
   "source": [
    "# create the session_id\n",
    "toy_data['increment'] = toy_data.groupby(\"user_id\")['new_session'].cumsum()\n",
    "toy_data['session_id'] = toy_data['user_id'].astype(str) + '_'  + toy_data['increment'].astype(str)\n",
    "\n",
    "# to get the same result as with hive/postgresql\n",
    "toy_data = toy_data.sort(['user_id','mytimestamp'])\n"
   ]
  },
  {
   "cell_type": "code",
   "execution_count": 98,
   "metadata": {
    "collapsed": false
   },
   "outputs": [
    {
     "data": {
      "text/html": [
       "<div>\n",
       "<table border=\"1\" class=\"dataframe\">\n",
       "  <thead>\n",
       "    <tr style=\"text-align: right;\">\n",
       "      <th></th>\n",
       "      <th>user_id</th>\n",
       "      <th>mytimestamp</th>\n",
       "      <th>prev_mytimestamp</th>\n",
       "      <th>difference</th>\n",
       "      <th>new_session</th>\n",
       "      <th>increment</th>\n",
       "      <th>session_id</th>\n",
       "    </tr>\n",
       "  </thead>\n",
       "  <tbody>\n",
       "    <tr>\n",
       "      <th>0</th>\n",
       "      <td>uid1</td>\n",
       "      <td>2013-09-04T15:49:49</td>\n",
       "      <td>NaN</td>\n",
       "      <td>NaT</td>\n",
       "      <td>0</td>\n",
       "      <td>0</td>\n",
       "      <td>uid1_0</td>\n",
       "    </tr>\n",
       "    <tr>\n",
       "      <th>1</th>\n",
       "      <td>uid1</td>\n",
       "      <td>2013-09-04T15:49:58</td>\n",
       "      <td>2013-09-04T15:49:49</td>\n",
       "      <td>00:00:09</td>\n",
       "      <td>0</td>\n",
       "      <td>0</td>\n",
       "      <td>uid1_0</td>\n",
       "    </tr>\n",
       "    <tr>\n",
       "      <th>2</th>\n",
       "      <td>uid1</td>\n",
       "      <td>2013-09-04T16:37:11</td>\n",
       "      <td>2013-09-04T15:49:58</td>\n",
       "      <td>00:47:13</td>\n",
       "      <td>1</td>\n",
       "      <td>1</td>\n",
       "      <td>uid1_1</td>\n",
       "    </tr>\n",
       "    <tr>\n",
       "      <th>3</th>\n",
       "      <td>uid1</td>\n",
       "      <td>2013-09-04T16:37:18</td>\n",
       "      <td>2013-09-04T16:37:11</td>\n",
       "      <td>00:00:07</td>\n",
       "      <td>0</td>\n",
       "      <td>1</td>\n",
       "      <td>uid1_1</td>\n",
       "    </tr>\n",
       "    <tr>\n",
       "      <th>4</th>\n",
       "      <td>uid1</td>\n",
       "      <td>2013-09-04T16:39:27</td>\n",
       "      <td>2013-09-04T16:37:18</td>\n",
       "      <td>00:02:09</td>\n",
       "      <td>0</td>\n",
       "      <td>1</td>\n",
       "      <td>uid1_1</td>\n",
       "    </tr>\n",
       "    <tr>\n",
       "      <th>5</th>\n",
       "      <td>uid1</td>\n",
       "      <td>2013-09-04T16:43:57</td>\n",
       "      <td>2013-09-04T16:39:27</td>\n",
       "      <td>00:04:30</td>\n",
       "      <td>0</td>\n",
       "      <td>1</td>\n",
       "      <td>uid1_1</td>\n",
       "    </tr>\n",
       "    <tr>\n",
       "      <th>6</th>\n",
       "      <td>uid1</td>\n",
       "      <td>2013-09-04T20:12:03</td>\n",
       "      <td>2013-09-04T16:43:57</td>\n",
       "      <td>03:28:06</td>\n",
       "      <td>1</td>\n",
       "      <td>2</td>\n",
       "      <td>uid1_2</td>\n",
       "    </tr>\n",
       "    <tr>\n",
       "      <th>7</th>\n",
       "      <td>uid1</td>\n",
       "      <td>2013-09-05T00:00:17</td>\n",
       "      <td>2013-09-04T20:12:03</td>\n",
       "      <td>03:48:14</td>\n",
       "      <td>1</td>\n",
       "      <td>3</td>\n",
       "      <td>uid1_3</td>\n",
       "    </tr>\n",
       "    <tr>\n",
       "      <th>8</th>\n",
       "      <td>uid1</td>\n",
       "      <td>2013-09-05T00:20:35</td>\n",
       "      <td>2013-09-05T00:00:17</td>\n",
       "      <td>00:20:18</td>\n",
       "      <td>0</td>\n",
       "      <td>3</td>\n",
       "      <td>uid1_3</td>\n",
       "    </tr>\n",
       "    <tr>\n",
       "      <th>12</th>\n",
       "      <td>uid1</td>\n",
       "      <td>2013-09-05T01:19:39</td>\n",
       "      <td>2013-09-05T00:20:35</td>\n",
       "      <td>00:59:04</td>\n",
       "      <td>1</td>\n",
       "      <td>4</td>\n",
       "      <td>uid1_4</td>\n",
       "    </tr>\n",
       "    <tr>\n",
       "      <th>13</th>\n",
       "      <td>uid1</td>\n",
       "      <td>2013-09-05T01:20:03</td>\n",
       "      <td>2013-09-05T01:19:39</td>\n",
       "      <td>00:00:24</td>\n",
       "      <td>0</td>\n",
       "      <td>4</td>\n",
       "      <td>uid1_4</td>\n",
       "    </tr>\n",
       "    <tr>\n",
       "      <th>14</th>\n",
       "      <td>uid1</td>\n",
       "      <td>2013-09-05T01:20:17</td>\n",
       "      <td>2013-09-05T01:20:03</td>\n",
       "      <td>00:00:14</td>\n",
       "      <td>0</td>\n",
       "      <td>4</td>\n",
       "      <td>uid1_4</td>\n",
       "    </tr>\n",
       "    <tr>\n",
       "      <th>15</th>\n",
       "      <td>uid1</td>\n",
       "      <td>2013-09-05T02:33:42</td>\n",
       "      <td>2013-09-05T01:20:17</td>\n",
       "      <td>01:13:25</td>\n",
       "      <td>1</td>\n",
       "      <td>5</td>\n",
       "      <td>uid1_5</td>\n",
       "    </tr>\n",
       "    <tr>\n",
       "      <th>9</th>\n",
       "      <td>uid2</td>\n",
       "      <td>2013-09-05T00:22:37</td>\n",
       "      <td>NaN</td>\n",
       "      <td>NaT</td>\n",
       "      <td>0</td>\n",
       "      <td>0</td>\n",
       "      <td>uid2_0</td>\n",
       "    </tr>\n",
       "    <tr>\n",
       "      <th>10</th>\n",
       "      <td>uid2</td>\n",
       "      <td>2013-09-05T00:24:10</td>\n",
       "      <td>2013-09-05T00:22:37</td>\n",
       "      <td>00:01:33</td>\n",
       "      <td>0</td>\n",
       "      <td>0</td>\n",
       "      <td>uid2_0</td>\n",
       "    </tr>\n",
       "    <tr>\n",
       "      <th>11</th>\n",
       "      <td>uid2</td>\n",
       "      <td>2013-09-05T01:19:29</td>\n",
       "      <td>2013-09-05T00:24:10</td>\n",
       "      <td>00:55:19</td>\n",
       "      <td>1</td>\n",
       "      <td>1</td>\n",
       "      <td>uid2_1</td>\n",
       "    </tr>\n",
       "  </tbody>\n",
       "</table>\n",
       "</div>"
      ],
      "text/plain": [
       "   user_id          mytimestamp     prev_mytimestamp  difference  new_session  \\\n",
       "0     uid1  2013-09-04T15:49:49                  NaN         NaT            0   \n",
       "1     uid1  2013-09-04T15:49:58  2013-09-04T15:49:49    00:00:09            0   \n",
       "2     uid1  2013-09-04T16:37:11  2013-09-04T15:49:58    00:47:13            1   \n",
       "3     uid1  2013-09-04T16:37:18  2013-09-04T16:37:11    00:00:07            0   \n",
       "4     uid1  2013-09-04T16:39:27  2013-09-04T16:37:18    00:02:09            0   \n",
       "5     uid1  2013-09-04T16:43:57  2013-09-04T16:39:27    00:04:30            0   \n",
       "6     uid1  2013-09-04T20:12:03  2013-09-04T16:43:57    03:28:06            1   \n",
       "7     uid1  2013-09-05T00:00:17  2013-09-04T20:12:03    03:48:14            1   \n",
       "8     uid1  2013-09-05T00:20:35  2013-09-05T00:00:17    00:20:18            0   \n",
       "12    uid1  2013-09-05T01:19:39  2013-09-05T00:20:35    00:59:04            1   \n",
       "13    uid1  2013-09-05T01:20:03  2013-09-05T01:19:39    00:00:24            0   \n",
       "14    uid1  2013-09-05T01:20:17  2013-09-05T01:20:03    00:00:14            0   \n",
       "15    uid1  2013-09-05T02:33:42  2013-09-05T01:20:17    01:13:25            1   \n",
       "9     uid2  2013-09-05T00:22:37                  NaN         NaT            0   \n",
       "10    uid2  2013-09-05T00:24:10  2013-09-05T00:22:37    00:01:33            0   \n",
       "11    uid2  2013-09-05T01:19:29  2013-09-05T00:24:10    00:55:19            1   \n",
       "\n",
       "    increment session_id  \n",
       "0           0     uid1_0  \n",
       "1           0     uid1_0  \n",
       "2           1     uid1_1  \n",
       "3           1     uid1_1  \n",
       "4           1     uid1_1  \n",
       "5           1     uid1_1  \n",
       "6           2     uid1_2  \n",
       "7           3     uid1_3  \n",
       "8           3     uid1_3  \n",
       "12          4     uid1_4  \n",
       "13          4     uid1_4  \n",
       "14          4     uid1_4  \n",
       "15          5     uid1_5  \n",
       "9           0     uid2_0  \n",
       "10          0     uid2_0  \n",
       "11          1     uid2_1  "
      ]
     },
     "execution_count": 98,
     "metadata": {},
     "output_type": "execute_result"
    }
   ],
   "source": [
    "toy_data"
   ]
  },
  {
   "cell_type": "code",
   "execution_count": null,
   "metadata": {
    "collapsed": true
   },
   "outputs": [],
   "source": []
  }
 ],
 "metadata": {
  "kernelspec": {
   "display_name": "Python 2",
   "language": "python",
   "name": "python2"
  },
  "language_info": {
   "codemirror_mode": {
    "name": "ipython",
    "version": 2
   },
   "file_extension": ".py",
   "mimetype": "text/x-python",
   "name": "python",
   "nbconvert_exporter": "python",
   "pygments_lexer": "ipython2",
   "version": "2.7.11"
  }
 },
 "nbformat": 4,
 "nbformat_minor": 0
}
